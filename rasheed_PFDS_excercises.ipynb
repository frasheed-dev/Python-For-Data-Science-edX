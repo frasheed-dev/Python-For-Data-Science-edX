{
 "cells": [
  {
   "cell_type": "markdown",
   "metadata": {},
   "source": [
    "# Chapter 1: Python Basics"
   ]
  },
  {
   "cell_type": "code",
   "execution_count": null,
   "metadata": {},
   "outputs": [],
   "source": [
    "#CHAPTER 1\n",
    "##Hello Python\n",
    "4+5\n",
    "print(4+5)"
   ]
  },
  {
   "cell_type": "code",
   "execution_count": null,
   "metadata": {},
   "outputs": [],
   "source": [
    "#Variable and type\n",
    "height = 1.79\n",
    "weight = 68.7\n",
    "\n",
    "bmi = weight/height**2\n",
    "bmi\n",
    "\n",
    "type(bmi)\n",
    "\n",
    "x = \"body mass index\"\n",
    "y = 'body mass index'\n",
    "z = True\n",
    "type(z)\n",
    "\n",
    "2+3         #sum numbers\n",
    "'ab' + 'cd' #sum string\n"
   ]
  },
  {
   "cell_type": "markdown",
   "metadata": {},
   "source": [
    "# CHAPTER 2: List and Data Structures"
   ]
  },
  {
   "cell_type": "code",
   "execution_count": null,
   "metadata": {},
   "outputs": [],
   "source": [
    "#CHAPTER 2\n",
    "#python lists\n",
    "fam = [\"liz\", 1.73,\"emma\", 1.68,\"mom\", 1.71,\"dad\", 1.89] #family height\n",
    "fam2 = [[\"liz\", 1.73],\n",
    "        [\"emma\", 1.68],\n",
    "        [\"mom\", 1.71],\n",
    "        [\"dad\", 1.89]] #list with sub-lists\n",
    "fam2\n",
    "\n",
    "type(fam2)"
   ]
  },
  {
   "cell_type": "code",
   "execution_count": null,
   "metadata": {},
   "outputs": [],
   "source": [
    "# Manipulating lists\n",
    "fam[7] = 1.86\n",
    "fam\n",
    "fam[0:2] = [\"lisa\", 1.74]\n",
    "fam\n",
    "fam_ext = fam + [\"me\", 1.79]\n",
    "fam_ext\n",
    "\n",
    "x = [\"a\", \"b\", \"c\"]\n",
    "y = x\n",
    "y[1] = \"z\" #change in y would also be change in x\n",
    "y\n",
    "x\n",
    "\n",
    "y = list(x) #copy x to y\n",
    "#or\n",
    "y = x[:]\n",
    "y"
   ]
  },
  {
   "cell_type": "code",
   "execution_count": null,
   "metadata": {},
   "outputs": [],
   "source": [
    "#sub-setting lists\n",
    "fam[6]\n",
    "fam[-1] #last element\n",
    "fam[-2] #2nd last element\n",
    "\n",
    "#list slicing :\n",
    "fam[3:5] #last index data would not be returned [inclusive : exclusive]\n",
    "fam[1:4]\n",
    "\n",
    "fam[:4] #start from beginning\n",
    "fam[5:] #start from 5th"
   ]
  },
  {
   "cell_type": "markdown",
   "metadata": {},
   "source": [
    "# CHAPTER 3: Functions and Packages"
   ]
  },
  {
   "cell_type": "code",
   "execution_count": null,
   "metadata": {},
   "outputs": [],
   "source": [
    "#CHAPTER 3\n",
    "#functions\n",
    "fam = [1.73, 1.68, 1.71, 1.89] #family height\n",
    "max(fam)\n",
    "tallest = max(fam)\n",
    "tallest\n",
    "\n",
    "#round\n",
    "round(1.68,1) #round to 1 decimal place\n",
    "round(1.68)\n",
    "\n",
    "help(round)\n"
   ]
  },
  {
   "cell_type": "code",
   "execution_count": null,
   "metadata": {},
   "outputs": [],
   "source": [
    "#Methods: Functions that belogs to object\n",
    "#Everything is object\n",
    "#objects have methods assosiated with it\n",
    "#sister = \"liz\" --------- object type str, example of object: capatalize(), replace()\n",
    "#height = 1.68 ---------- object type float, example of object: bit_lebgth(), conjugate()\n",
    "#fam = [1.73, 1.68, 1.71, 1.89]----------object type list, example of object:index(),count()\n",
    "\n",
    "fam = [\"liz\", 1.73,\"emma\", 1.68,\"mom\", 1.71,\"dad\", 1.89] #family height\n",
    "fam.index(\"mom\") #returns mom index in list\n",
    "fam.count(1.73) #count number of times 1.73 occurs in the list\n",
    "\n",
    "sister = 'liz'\n",
    "sister.capitalize()\n",
    "sister.replace(\"z\",\"sa\")\n",
    "\n",
    "fam.append(\"me\")\n",
    "fam.append(\"1.79\")"
   ]
  },
  {
   "cell_type": "code",
   "execution_count": null,
   "metadata": {},
   "outputs": [],
   "source": [
    "#Packages\n",
    "#directroy of python scripts example: pkg/mod1.py, pkg/mod2.py\n",
    "#each script = module\n",
    "\n",
    "import numpy #import numpy package\n",
    "numpy.array([1,2,3])\n",
    "\n",
    "import numpy as np #import numpy package with a short name for easy to write code\n",
    "np.array([1,2,3])\n",
    "\n",
    "from numpy import array #import only array package from numpy\n",
    "array([1,2,3]) #no need to write numpy or np when specific package is imported"
   ]
  },
  {
   "cell_type": "markdown",
   "metadata": {},
   "source": [
    "# CHAPTER 4: Numpy"
   ]
  },
  {
   "cell_type": "code",
   "execution_count": null,
   "metadata": {},
   "outputs": [],
   "source": [
    "#CHAPTER: 4\n",
    "#Numpy: Basic Statistics\n",
    "import numpy as np\n",
    "\n",
    "height = np.round(np.random.normal(1.75,0.2,5000),2)\n",
    "weight = np.round(np.random.normal(60.32,15,5000),2)\n",
    "np_city = np.column_stack((height, weight))\n",
    "\n",
    "np.mean(np_city[:,0])\n",
    "np.median(np_city[:,0])\n",
    "np.corrcoef(np_city[:,0],np_city[:,1])\n",
    "np.std(np_city[:,0])"
   ]
  },
  {
   "cell_type": "code",
   "execution_count": null,
   "metadata": {},
   "outputs": [],
   "source": [
    "#Numpy\n",
    "import numpy as np\n",
    "\n",
    "height = [1.73, 1.68, 1.71, 1.89, 1.79]\n",
    "weight = [65.4, 59.2, 63.6, 88.4, 68.7]\n",
    "\n",
    "np_height = np.array(height)\n",
    "np_weight = np.array(weight)\n",
    "bmi = np_weight/np_height**2\n",
    "bmi\n",
    "\n",
    "python_list = [1,2,3]\n",
    "numpy_array = np.array([1,2,3])\n",
    "python_list+python_list\n",
    "numpy_array+numpy_array\n",
    "\n",
    "bmi>23\n",
    "bmi[bmi>23]"
   ]
  },
  {
   "cell_type": "code",
   "execution_count": null,
   "metadata": {
    "scrolled": true
   },
   "outputs": [],
   "source": [
    "#2D Numpy Arrays\n",
    "height = [1.73, 1.68, 1.71, 1.89, 1.79]\n",
    "weight = [65.4, 59.2, 63.6, 88.4, 68.7]\n",
    "\n",
    "np_height = np.array(height)\n",
    "np_weight = np.array(weight)\n",
    "\n",
    "type(np_height)\n",
    "type(np_weight)\n",
    "\n",
    "np_2d = np.array([[1.73, 1.68, 1.71, 1.89, 1.79],\n",
    "                 [65.4, 59.2, 63.6, 88.4, 68.7]])\n",
    "np_2d.shape\n",
    "\n",
    "np_2d[0][1] #[row][column]\n",
    "np_2d[0,1]  #[row,column]\n",
    "np_2d[:,1:3] #height and weight of 1st and 2nd member\n",
    "np_2d[1,:] #weight of all member"
   ]
  },
  {
   "cell_type": "markdown",
   "metadata": {},
   "source": [
    "# CHAPTER 5: Plotting with Matplotlib"
   ]
  },
  {
   "cell_type": "code",
   "execution_count": null,
   "metadata": {
    "scrolled": false
   },
   "outputs": [],
   "source": [
    "#CHAPTER: 5\n",
    "#Customization\n",
    "import matplotlib.pyplot as plt\n",
    "\n",
    "#plt.plot(year, population) #in video\n",
    "height = [1.2, 1.38, 1.41, 1.59, 1.69]\n",
    "weight = [45.4, 59.2, 63.6, 68.4, 72.7]\n",
    "plt.plot(height, weight)\n",
    "plt.fill_between(height,weight,0,color='green')\n",
    "plt.xlabel(\"Height\")\n",
    "plt.ylabel(\"Weight\")\n",
    "plt.title(\"Example plot\")\n",
    "plt.yticks([0,20,40,60,80,100])\n",
    "plt.show()"
   ]
  },
  {
   "cell_type": "code",
   "execution_count": null,
   "metadata": {
    "scrolled": false
   },
   "outputs": [],
   "source": [
    "#Basic Plots with Matplotlib\n",
    "import matplotlib.pyplot as plt\n",
    "\n",
    "year = [1950, 1970, 1990, 2010]\n",
    "pop = [2.519, 3.692, 5.263, 6.972]\n",
    "plt.scatter(year,pop)\n",
    "plt.xlabel(\"Year\")\n",
    "plt.ylabel(\"Population\")\n",
    "plt.title(\"Scatter plot\")\n",
    "plt.show()"
   ]
  },
  {
   "cell_type": "code",
   "execution_count": null,
   "metadata": {},
   "outputs": [],
   "source": [
    "#Histograms\n",
    "\n",
    "import matplotlib.pyplot as plt\n",
    "#help(plt.hist)\n",
    "values = [0,0.6,1.4,1.6,2.2,2.5,2.6,3.2,3.5,3.9,4.2,6]\n",
    "plt.hist(values, bins = 3)\n",
    "plt.xlabel(\"Values\")\n",
    "plt.ylabel(\"Occurence\")\n",
    "plt.show()"
   ]
  },
  {
   "cell_type": "markdown",
   "metadata": {},
   "source": [
    "# Chapter 6: Control Flow and Pandas"
   ]
  },
  {
   "cell_type": "code",
   "execution_count": null,
   "metadata": {},
   "outputs": [],
   "source": [
    "#CHAPTER: 6\n",
    "#Boolean Logic and Control Flow\n",
    "\n",
    "2<3\n",
    "2==3\n",
    "\n",
    "#Logic opeators\n",
    "#and, or, not\n",
    "\n",
    "#AND\n",
    "True and True\n",
    "True and False\n",
    "\n",
    "x= 12\n",
    "x>5 and x<15\n",
    "\n",
    "#OR\n",
    "True or True\n",
    "True or False\n",
    "\n",
    "y= 5\n",
    "y<=7 or x>13\n",
    "\n",
    "#NOT\n",
    "not True\n",
    "not False\n",
    "\n",
    "#conditional statements\n",
    "z=2\n",
    "if z%2==0:\n",
    "    print(\"checking \" + str(z))\n",
    "    print(\"z is divisble by 2\")\n",
    "elif z%3==0:\n",
    "    print(\"z is divisble by 3\")\n",
    "else:\n",
    "    print(\"z is neither divisible by 2 or 3\")"
   ]
  },
  {
   "cell_type": "code",
   "execution_count": null,
   "metadata": {},
   "outputs": [],
   "source": [
    "#Pandas\n",
    "\n",
    "import pandas as pd\n",
    "\n",
    "#brics = pd.read_csv(\"brics.csv\", index_col = 0)"
   ]
  }
 ],
 "metadata": {
  "kernelspec": {
   "display_name": "Python 2",
   "language": "python",
   "name": "python2"
  },
  "language_info": {
   "codemirror_mode": {
    "name": "ipython",
    "version": 2
   },
   "file_extension": ".py",
   "mimetype": "text/x-python",
   "name": "python",
   "nbconvert_exporter": "python",
   "pygments_lexer": "ipython2",
   "version": "2.7.14"
  }
 },
 "nbformat": 4,
 "nbformat_minor": 2
}
